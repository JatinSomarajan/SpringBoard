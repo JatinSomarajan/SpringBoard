{
 "cells": [
  {
   "cell_type": "code",
   "execution_count": 1,
   "metadata": {},
   "outputs": [],
   "source": [
    "import pandas as pd\n",
    "import matplotlib.pyplot as plt\n",
    "import numpy as np\n",
    "import seaborn as sns"
   ]
  },
  {
   "cell_type": "code",
   "execution_count": 2,
   "metadata": {},
   "outputs": [],
   "source": [
    "emp_sur_df = pd.read_csv('employee_survey_data.csv')"
   ]
  },
  {
   "cell_type": "code",
   "execution_count": 3,
   "metadata": {},
   "outputs": [],
   "source": [
    "emp_sur_clean_df = emp_sur_df.dropna()"
   ]
  },
  {
   "cell_type": "code",
   "execution_count": 4,
   "metadata": {},
   "outputs": [],
   "source": [
    "man_sur_df = pd.read_csv('manager_survey_data.csv')"
   ]
  },
  {
   "cell_type": "code",
   "execution_count": 5,
   "metadata": {},
   "outputs": [
    {
     "data": {
      "text/html": [
       "<div>\n",
       "<style scoped>\n",
       "    .dataframe tbody tr th:only-of-type {\n",
       "        vertical-align: middle;\n",
       "    }\n",
       "\n",
       "    .dataframe tbody tr th {\n",
       "        vertical-align: top;\n",
       "    }\n",
       "\n",
       "    .dataframe thead th {\n",
       "        text-align: right;\n",
       "    }\n",
       "</style>\n",
       "<table border=\"1\" class=\"dataframe\">\n",
       "  <thead>\n",
       "    <tr style=\"text-align: right;\">\n",
       "      <th></th>\n",
       "      <th>EmployeeID</th>\n",
       "      <th>2015-01-01</th>\n",
       "      <th>2015-01-02</th>\n",
       "      <th>2015-01-05</th>\n",
       "      <th>2015-01-06</th>\n",
       "      <th>2015-01-07</th>\n",
       "      <th>2015-01-08</th>\n",
       "      <th>2015-01-09</th>\n",
       "      <th>2015-01-12</th>\n",
       "      <th>2015-01-13</th>\n",
       "      <th>...</th>\n",
       "      <th>2015-12-18</th>\n",
       "      <th>2015-12-21</th>\n",
       "      <th>2015-12-22</th>\n",
       "      <th>2015-12-23</th>\n",
       "      <th>2015-12-24</th>\n",
       "      <th>2015-12-25</th>\n",
       "      <th>2015-12-28</th>\n",
       "      <th>2015-12-29</th>\n",
       "      <th>2015-12-30</th>\n",
       "      <th>2015-12-31</th>\n",
       "    </tr>\n",
       "  </thead>\n",
       "  <tbody>\n",
       "    <tr>\n",
       "      <td>0</td>\n",
       "      <td>1</td>\n",
       "      <td>NaN</td>\n",
       "      <td>2015-01-02 09:43:45</td>\n",
       "      <td>2015-01-05 10:08:48</td>\n",
       "      <td>2015-01-06 09:54:26</td>\n",
       "      <td>2015-01-07 09:34:31</td>\n",
       "      <td>2015-01-08 09:51:09</td>\n",
       "      <td>2015-01-09 10:09:25</td>\n",
       "      <td>2015-01-12 09:42:53</td>\n",
       "      <td>2015-01-13 10:13:06</td>\n",
       "      <td>...</td>\n",
       "      <td>NaN</td>\n",
       "      <td>2015-12-21 09:55:29</td>\n",
       "      <td>2015-12-22 10:04:06</td>\n",
       "      <td>2015-12-23 10:14:27</td>\n",
       "      <td>2015-12-24 10:11:35</td>\n",
       "      <td>NaN</td>\n",
       "      <td>2015-12-28 10:13:41</td>\n",
       "      <td>2015-12-29 10:03:36</td>\n",
       "      <td>2015-12-30 09:54:12</td>\n",
       "      <td>2015-12-31 10:12:44</td>\n",
       "    </tr>\n",
       "    <tr>\n",
       "      <td>1</td>\n",
       "      <td>2</td>\n",
       "      <td>NaN</td>\n",
       "      <td>2015-01-02 10:15:44</td>\n",
       "      <td>2015-01-05 10:21:05</td>\n",
       "      <td>NaN</td>\n",
       "      <td>2015-01-07 09:45:17</td>\n",
       "      <td>2015-01-08 10:09:04</td>\n",
       "      <td>2015-01-09 09:43:26</td>\n",
       "      <td>2015-01-12 10:00:07</td>\n",
       "      <td>2015-01-13 10:43:29</td>\n",
       "      <td>...</td>\n",
       "      <td>2015-12-18 10:37:17</td>\n",
       "      <td>2015-12-21 09:49:02</td>\n",
       "      <td>2015-12-22 10:33:51</td>\n",
       "      <td>2015-12-23 10:12:10</td>\n",
       "      <td>NaN</td>\n",
       "      <td>NaN</td>\n",
       "      <td>2015-12-28 09:31:45</td>\n",
       "      <td>2015-12-29 09:55:49</td>\n",
       "      <td>2015-12-30 10:32:25</td>\n",
       "      <td>2015-12-31 09:27:20</td>\n",
       "    </tr>\n",
       "    <tr>\n",
       "      <td>2</td>\n",
       "      <td>3</td>\n",
       "      <td>NaN</td>\n",
       "      <td>2015-01-02 10:17:41</td>\n",
       "      <td>2015-01-05 09:50:50</td>\n",
       "      <td>2015-01-06 10:14:13</td>\n",
       "      <td>2015-01-07 09:47:27</td>\n",
       "      <td>2015-01-08 10:03:40</td>\n",
       "      <td>2015-01-09 10:05:49</td>\n",
       "      <td>2015-01-12 10:03:47</td>\n",
       "      <td>2015-01-13 10:21:26</td>\n",
       "      <td>...</td>\n",
       "      <td>2015-12-18 10:15:14</td>\n",
       "      <td>2015-12-21 10:10:28</td>\n",
       "      <td>2015-12-22 09:44:44</td>\n",
       "      <td>2015-12-23 10:15:54</td>\n",
       "      <td>2015-12-24 10:07:26</td>\n",
       "      <td>NaN</td>\n",
       "      <td>2015-12-28 09:42:05</td>\n",
       "      <td>2015-12-29 09:43:36</td>\n",
       "      <td>2015-12-30 09:34:05</td>\n",
       "      <td>2015-12-31 10:28:39</td>\n",
       "    </tr>\n",
       "    <tr>\n",
       "      <td>3</td>\n",
       "      <td>4</td>\n",
       "      <td>NaN</td>\n",
       "      <td>2015-01-02 10:05:06</td>\n",
       "      <td>2015-01-05 09:56:32</td>\n",
       "      <td>2015-01-06 10:11:07</td>\n",
       "      <td>2015-01-07 09:37:30</td>\n",
       "      <td>2015-01-08 10:02:08</td>\n",
       "      <td>2015-01-09 10:08:12</td>\n",
       "      <td>2015-01-12 10:13:42</td>\n",
       "      <td>2015-01-13 09:53:22</td>\n",
       "      <td>...</td>\n",
       "      <td>2015-12-18 10:17:38</td>\n",
       "      <td>2015-12-21 09:58:21</td>\n",
       "      <td>2015-12-22 10:04:25</td>\n",
       "      <td>2015-12-23 10:11:46</td>\n",
       "      <td>2015-12-24 09:43:15</td>\n",
       "      <td>NaN</td>\n",
       "      <td>2015-12-28 09:52:44</td>\n",
       "      <td>2015-12-29 09:33:16</td>\n",
       "      <td>2015-12-30 10:18:12</td>\n",
       "      <td>2015-12-31 10:01:15</td>\n",
       "    </tr>\n",
       "    <tr>\n",
       "      <td>4</td>\n",
       "      <td>5</td>\n",
       "      <td>NaN</td>\n",
       "      <td>2015-01-02 10:28:17</td>\n",
       "      <td>2015-01-05 09:49:58</td>\n",
       "      <td>2015-01-06 09:45:28</td>\n",
       "      <td>2015-01-07 09:49:37</td>\n",
       "      <td>2015-01-08 10:19:44</td>\n",
       "      <td>2015-01-09 10:00:50</td>\n",
       "      <td>2015-01-12 10:29:27</td>\n",
       "      <td>2015-01-13 09:59:32</td>\n",
       "      <td>...</td>\n",
       "      <td>2015-12-18 09:58:35</td>\n",
       "      <td>2015-12-21 10:03:41</td>\n",
       "      <td>2015-12-22 10:10:30</td>\n",
       "      <td>2015-12-23 10:13:36</td>\n",
       "      <td>2015-12-24 09:44:24</td>\n",
       "      <td>NaN</td>\n",
       "      <td>2015-12-28 10:05:15</td>\n",
       "      <td>2015-12-29 10:30:53</td>\n",
       "      <td>2015-12-30 09:18:21</td>\n",
       "      <td>2015-12-31 09:41:09</td>\n",
       "    </tr>\n",
       "  </tbody>\n",
       "</table>\n",
       "<p>5 rows × 262 columns</p>\n",
       "</div>"
      ],
      "text/plain": [
       "   EmployeeID  2015-01-01           2015-01-02           2015-01-05  \\\n",
       "0           1         NaN  2015-01-02 09:43:45  2015-01-05 10:08:48   \n",
       "1           2         NaN  2015-01-02 10:15:44  2015-01-05 10:21:05   \n",
       "2           3         NaN  2015-01-02 10:17:41  2015-01-05 09:50:50   \n",
       "3           4         NaN  2015-01-02 10:05:06  2015-01-05 09:56:32   \n",
       "4           5         NaN  2015-01-02 10:28:17  2015-01-05 09:49:58   \n",
       "\n",
       "            2015-01-06           2015-01-07           2015-01-08  \\\n",
       "0  2015-01-06 09:54:26  2015-01-07 09:34:31  2015-01-08 09:51:09   \n",
       "1                  NaN  2015-01-07 09:45:17  2015-01-08 10:09:04   \n",
       "2  2015-01-06 10:14:13  2015-01-07 09:47:27  2015-01-08 10:03:40   \n",
       "3  2015-01-06 10:11:07  2015-01-07 09:37:30  2015-01-08 10:02:08   \n",
       "4  2015-01-06 09:45:28  2015-01-07 09:49:37  2015-01-08 10:19:44   \n",
       "\n",
       "            2015-01-09           2015-01-12           2015-01-13  ...  \\\n",
       "0  2015-01-09 10:09:25  2015-01-12 09:42:53  2015-01-13 10:13:06  ...   \n",
       "1  2015-01-09 09:43:26  2015-01-12 10:00:07  2015-01-13 10:43:29  ...   \n",
       "2  2015-01-09 10:05:49  2015-01-12 10:03:47  2015-01-13 10:21:26  ...   \n",
       "3  2015-01-09 10:08:12  2015-01-12 10:13:42  2015-01-13 09:53:22  ...   \n",
       "4  2015-01-09 10:00:50  2015-01-12 10:29:27  2015-01-13 09:59:32  ...   \n",
       "\n",
       "            2015-12-18           2015-12-21           2015-12-22  \\\n",
       "0                  NaN  2015-12-21 09:55:29  2015-12-22 10:04:06   \n",
       "1  2015-12-18 10:37:17  2015-12-21 09:49:02  2015-12-22 10:33:51   \n",
       "2  2015-12-18 10:15:14  2015-12-21 10:10:28  2015-12-22 09:44:44   \n",
       "3  2015-12-18 10:17:38  2015-12-21 09:58:21  2015-12-22 10:04:25   \n",
       "4  2015-12-18 09:58:35  2015-12-21 10:03:41  2015-12-22 10:10:30   \n",
       "\n",
       "            2015-12-23           2015-12-24 2015-12-25           2015-12-28  \\\n",
       "0  2015-12-23 10:14:27  2015-12-24 10:11:35        NaN  2015-12-28 10:13:41   \n",
       "1  2015-12-23 10:12:10                  NaN        NaN  2015-12-28 09:31:45   \n",
       "2  2015-12-23 10:15:54  2015-12-24 10:07:26        NaN  2015-12-28 09:42:05   \n",
       "3  2015-12-23 10:11:46  2015-12-24 09:43:15        NaN  2015-12-28 09:52:44   \n",
       "4  2015-12-23 10:13:36  2015-12-24 09:44:24        NaN  2015-12-28 10:05:15   \n",
       "\n",
       "            2015-12-29           2015-12-30           2015-12-31  \n",
       "0  2015-12-29 10:03:36  2015-12-30 09:54:12  2015-12-31 10:12:44  \n",
       "1  2015-12-29 09:55:49  2015-12-30 10:32:25  2015-12-31 09:27:20  \n",
       "2  2015-12-29 09:43:36  2015-12-30 09:34:05  2015-12-31 10:28:39  \n",
       "3  2015-12-29 09:33:16  2015-12-30 10:18:12  2015-12-31 10:01:15  \n",
       "4  2015-12-29 10:30:53  2015-12-30 09:18:21  2015-12-31 09:41:09  \n",
       "\n",
       "[5 rows x 262 columns]"
      ]
     },
     "execution_count": 5,
     "metadata": {},
     "output_type": "execute_result"
    }
   ],
   "source": [
    "in_df = pd.read_csv('in_time.csv')\n",
    "in_df.columns.values[0] = 'EmployeeID'\n",
    "in_df.head()"
   ]
  },
  {
   "cell_type": "code",
   "execution_count": null,
   "metadata": {},
   "outputs": [],
   "source": []
  },
  {
   "cell_type": "code",
   "execution_count": 6,
   "metadata": {},
   "outputs": [
    {
     "data": {
      "text/html": [
       "<div>\n",
       "<style scoped>\n",
       "    .dataframe tbody tr th:only-of-type {\n",
       "        vertical-align: middle;\n",
       "    }\n",
       "\n",
       "    .dataframe tbody tr th {\n",
       "        vertical-align: top;\n",
       "    }\n",
       "\n",
       "    .dataframe thead th {\n",
       "        text-align: right;\n",
       "    }\n",
       "</style>\n",
       "<table border=\"1\" class=\"dataframe\">\n",
       "  <thead>\n",
       "    <tr style=\"text-align: right;\">\n",
       "      <th></th>\n",
       "      <th>EmployeeID</th>\n",
       "      <th>2015-01-01</th>\n",
       "      <th>2015-01-02</th>\n",
       "      <th>2015-01-05</th>\n",
       "      <th>2015-01-06</th>\n",
       "      <th>2015-01-07</th>\n",
       "      <th>2015-01-08</th>\n",
       "      <th>2015-01-09</th>\n",
       "      <th>2015-01-12</th>\n",
       "      <th>2015-01-13</th>\n",
       "      <th>...</th>\n",
       "      <th>2015-12-18</th>\n",
       "      <th>2015-12-21</th>\n",
       "      <th>2015-12-22</th>\n",
       "      <th>2015-12-23</th>\n",
       "      <th>2015-12-24</th>\n",
       "      <th>2015-12-25</th>\n",
       "      <th>2015-12-28</th>\n",
       "      <th>2015-12-29</th>\n",
       "      <th>2015-12-30</th>\n",
       "      <th>2015-12-31</th>\n",
       "    </tr>\n",
       "  </thead>\n",
       "  <tbody>\n",
       "    <tr>\n",
       "      <td>0</td>\n",
       "      <td>1</td>\n",
       "      <td>NaN</td>\n",
       "      <td>2015-01-02 16:56:15</td>\n",
       "      <td>2015-01-05 17:20:11</td>\n",
       "      <td>2015-01-06 17:19:05</td>\n",
       "      <td>2015-01-07 16:34:55</td>\n",
       "      <td>2015-01-08 17:08:32</td>\n",
       "      <td>2015-01-09 17:38:29</td>\n",
       "      <td>2015-01-12 16:58:39</td>\n",
       "      <td>2015-01-13 18:02:58</td>\n",
       "      <td>...</td>\n",
       "      <td>NaN</td>\n",
       "      <td>2015-12-21 17:15:50</td>\n",
       "      <td>2015-12-22 17:27:51</td>\n",
       "      <td>2015-12-23 16:44:44</td>\n",
       "      <td>2015-12-24 17:47:22</td>\n",
       "      <td>NaN</td>\n",
       "      <td>2015-12-28 18:00:07</td>\n",
       "      <td>2015-12-29 17:22:30</td>\n",
       "      <td>2015-12-30 17:40:56</td>\n",
       "      <td>2015-12-31 17:17:33</td>\n",
       "    </tr>\n",
       "    <tr>\n",
       "      <td>1</td>\n",
       "      <td>2</td>\n",
       "      <td>NaN</td>\n",
       "      <td>2015-01-02 18:22:17</td>\n",
       "      <td>2015-01-05 17:48:22</td>\n",
       "      <td>NaN</td>\n",
       "      <td>2015-01-07 17:09:06</td>\n",
       "      <td>2015-01-08 17:34:04</td>\n",
       "      <td>2015-01-09 16:52:29</td>\n",
       "      <td>2015-01-12 17:36:48</td>\n",
       "      <td>2015-01-13 18:00:13</td>\n",
       "      <td>...</td>\n",
       "      <td>2015-12-18 18:31:28</td>\n",
       "      <td>2015-12-21 17:34:16</td>\n",
       "      <td>2015-12-22 18:16:35</td>\n",
       "      <td>2015-12-23 17:38:18</td>\n",
       "      <td>NaN</td>\n",
       "      <td>NaN</td>\n",
       "      <td>2015-12-28 17:08:38</td>\n",
       "      <td>2015-12-29 17:54:46</td>\n",
       "      <td>2015-12-30 18:31:35</td>\n",
       "      <td>2015-12-31 17:40:58</td>\n",
       "    </tr>\n",
       "    <tr>\n",
       "      <td>2</td>\n",
       "      <td>3</td>\n",
       "      <td>NaN</td>\n",
       "      <td>2015-01-02 16:59:14</td>\n",
       "      <td>2015-01-05 17:06:46</td>\n",
       "      <td>2015-01-06 16:38:32</td>\n",
       "      <td>2015-01-07 16:33:21</td>\n",
       "      <td>2015-01-08 17:24:22</td>\n",
       "      <td>2015-01-09 16:57:30</td>\n",
       "      <td>2015-01-12 17:28:54</td>\n",
       "      <td>2015-01-13 17:21:25</td>\n",
       "      <td>...</td>\n",
       "      <td>2015-12-18 17:02:23</td>\n",
       "      <td>2015-12-21 17:20:17</td>\n",
       "      <td>2015-12-22 16:32:50</td>\n",
       "      <td>2015-12-23 16:59:43</td>\n",
       "      <td>2015-12-24 16:58:25</td>\n",
       "      <td>NaN</td>\n",
       "      <td>2015-12-28 16:43:31</td>\n",
       "      <td>2015-12-29 17:09:56</td>\n",
       "      <td>2015-12-30 17:06:25</td>\n",
       "      <td>2015-12-31 17:15:50</td>\n",
       "    </tr>\n",
       "    <tr>\n",
       "      <td>3</td>\n",
       "      <td>4</td>\n",
       "      <td>NaN</td>\n",
       "      <td>2015-01-02 17:25:24</td>\n",
       "      <td>2015-01-05 17:14:03</td>\n",
       "      <td>2015-01-06 17:07:42</td>\n",
       "      <td>2015-01-07 16:32:40</td>\n",
       "      <td>2015-01-08 16:53:11</td>\n",
       "      <td>2015-01-09 17:19:47</td>\n",
       "      <td>2015-01-12 17:13:37</td>\n",
       "      <td>2015-01-13 17:11:45</td>\n",
       "      <td>...</td>\n",
       "      <td>2015-12-18 17:55:23</td>\n",
       "      <td>2015-12-21 16:49:09</td>\n",
       "      <td>2015-12-22 17:24:00</td>\n",
       "      <td>2015-12-23 17:36:35</td>\n",
       "      <td>2015-12-24 16:48:21</td>\n",
       "      <td>NaN</td>\n",
       "      <td>2015-12-28 17:19:34</td>\n",
       "      <td>2015-12-29 16:58:16</td>\n",
       "      <td>2015-12-30 17:40:11</td>\n",
       "      <td>2015-12-31 17:09:14</td>\n",
       "    </tr>\n",
       "    <tr>\n",
       "      <td>4</td>\n",
       "      <td>5</td>\n",
       "      <td>NaN</td>\n",
       "      <td>2015-01-02 18:31:37</td>\n",
       "      <td>2015-01-05 17:49:15</td>\n",
       "      <td>2015-01-06 17:26:25</td>\n",
       "      <td>2015-01-07 17:37:59</td>\n",
       "      <td>2015-01-08 17:59:28</td>\n",
       "      <td>2015-01-09 17:44:08</td>\n",
       "      <td>2015-01-12 18:51:21</td>\n",
       "      <td>2015-01-13 18:14:58</td>\n",
       "      <td>...</td>\n",
       "      <td>2015-12-18 17:52:48</td>\n",
       "      <td>2015-12-21 17:43:35</td>\n",
       "      <td>2015-12-22 18:07:57</td>\n",
       "      <td>2015-12-23 18:00:49</td>\n",
       "      <td>2015-12-24 17:59:22</td>\n",
       "      <td>NaN</td>\n",
       "      <td>2015-12-28 17:44:59</td>\n",
       "      <td>2015-12-29 18:47:00</td>\n",
       "      <td>2015-12-30 17:15:33</td>\n",
       "      <td>2015-12-31 17:42:14</td>\n",
       "    </tr>\n",
       "  </tbody>\n",
       "</table>\n",
       "<p>5 rows × 262 columns</p>\n",
       "</div>"
      ],
      "text/plain": [
       "   EmployeeID  2015-01-01           2015-01-02           2015-01-05  \\\n",
       "0           1         NaN  2015-01-02 16:56:15  2015-01-05 17:20:11   \n",
       "1           2         NaN  2015-01-02 18:22:17  2015-01-05 17:48:22   \n",
       "2           3         NaN  2015-01-02 16:59:14  2015-01-05 17:06:46   \n",
       "3           4         NaN  2015-01-02 17:25:24  2015-01-05 17:14:03   \n",
       "4           5         NaN  2015-01-02 18:31:37  2015-01-05 17:49:15   \n",
       "\n",
       "            2015-01-06           2015-01-07           2015-01-08  \\\n",
       "0  2015-01-06 17:19:05  2015-01-07 16:34:55  2015-01-08 17:08:32   \n",
       "1                  NaN  2015-01-07 17:09:06  2015-01-08 17:34:04   \n",
       "2  2015-01-06 16:38:32  2015-01-07 16:33:21  2015-01-08 17:24:22   \n",
       "3  2015-01-06 17:07:42  2015-01-07 16:32:40  2015-01-08 16:53:11   \n",
       "4  2015-01-06 17:26:25  2015-01-07 17:37:59  2015-01-08 17:59:28   \n",
       "\n",
       "            2015-01-09           2015-01-12           2015-01-13  ...  \\\n",
       "0  2015-01-09 17:38:29  2015-01-12 16:58:39  2015-01-13 18:02:58  ...   \n",
       "1  2015-01-09 16:52:29  2015-01-12 17:36:48  2015-01-13 18:00:13  ...   \n",
       "2  2015-01-09 16:57:30  2015-01-12 17:28:54  2015-01-13 17:21:25  ...   \n",
       "3  2015-01-09 17:19:47  2015-01-12 17:13:37  2015-01-13 17:11:45  ...   \n",
       "4  2015-01-09 17:44:08  2015-01-12 18:51:21  2015-01-13 18:14:58  ...   \n",
       "\n",
       "            2015-12-18           2015-12-21           2015-12-22  \\\n",
       "0                  NaN  2015-12-21 17:15:50  2015-12-22 17:27:51   \n",
       "1  2015-12-18 18:31:28  2015-12-21 17:34:16  2015-12-22 18:16:35   \n",
       "2  2015-12-18 17:02:23  2015-12-21 17:20:17  2015-12-22 16:32:50   \n",
       "3  2015-12-18 17:55:23  2015-12-21 16:49:09  2015-12-22 17:24:00   \n",
       "4  2015-12-18 17:52:48  2015-12-21 17:43:35  2015-12-22 18:07:57   \n",
       "\n",
       "            2015-12-23           2015-12-24 2015-12-25           2015-12-28  \\\n",
       "0  2015-12-23 16:44:44  2015-12-24 17:47:22        NaN  2015-12-28 18:00:07   \n",
       "1  2015-12-23 17:38:18                  NaN        NaN  2015-12-28 17:08:38   \n",
       "2  2015-12-23 16:59:43  2015-12-24 16:58:25        NaN  2015-12-28 16:43:31   \n",
       "3  2015-12-23 17:36:35  2015-12-24 16:48:21        NaN  2015-12-28 17:19:34   \n",
       "4  2015-12-23 18:00:49  2015-12-24 17:59:22        NaN  2015-12-28 17:44:59   \n",
       "\n",
       "            2015-12-29           2015-12-30           2015-12-31  \n",
       "0  2015-12-29 17:22:30  2015-12-30 17:40:56  2015-12-31 17:17:33  \n",
       "1  2015-12-29 17:54:46  2015-12-30 18:31:35  2015-12-31 17:40:58  \n",
       "2  2015-12-29 17:09:56  2015-12-30 17:06:25  2015-12-31 17:15:50  \n",
       "3  2015-12-29 16:58:16  2015-12-30 17:40:11  2015-12-31 17:09:14  \n",
       "4  2015-12-29 18:47:00  2015-12-30 17:15:33  2015-12-31 17:42:14  \n",
       "\n",
       "[5 rows x 262 columns]"
      ]
     },
     "execution_count": 6,
     "metadata": {},
     "output_type": "execute_result"
    }
   ],
   "source": [
    "out_df = pd.read_csv('out_time.csv')\n",
    "out_df.columns.values[0] = 'EmployeeID'\n",
    "out_df.head()"
   ]
  },
  {
   "cell_type": "code",
   "execution_count": 7,
   "metadata": {},
   "outputs": [
    {
     "data": {
      "text/html": [
       "<div>\n",
       "<style scoped>\n",
       "    .dataframe tbody tr th:only-of-type {\n",
       "        vertical-align: middle;\n",
       "    }\n",
       "\n",
       "    .dataframe tbody tr th {\n",
       "        vertical-align: top;\n",
       "    }\n",
       "\n",
       "    .dataframe thead th {\n",
       "        text-align: right;\n",
       "    }\n",
       "</style>\n",
       "<table border=\"1\" class=\"dataframe\">\n",
       "  <thead>\n",
       "    <tr style=\"text-align: right;\">\n",
       "      <th></th>\n",
       "      <th>Age</th>\n",
       "      <th>Attrition</th>\n",
       "      <th>BusinessTravel</th>\n",
       "      <th>Department</th>\n",
       "      <th>DistanceFromHome</th>\n",
       "      <th>Education</th>\n",
       "      <th>EducationField</th>\n",
       "      <th>EmployeeCount</th>\n",
       "      <th>EmployeeID</th>\n",
       "      <th>Gender</th>\n",
       "      <th>...</th>\n",
       "      <th>NumCompaniesWorked</th>\n",
       "      <th>Over18</th>\n",
       "      <th>PercentSalaryHike</th>\n",
       "      <th>StandardHours</th>\n",
       "      <th>StockOptionLevel</th>\n",
       "      <th>TotalWorkingYears</th>\n",
       "      <th>TrainingTimesLastYear</th>\n",
       "      <th>YearsAtCompany</th>\n",
       "      <th>YearsSinceLastPromotion</th>\n",
       "      <th>YearsWithCurrManager</th>\n",
       "    </tr>\n",
       "  </thead>\n",
       "  <tbody>\n",
       "    <tr>\n",
       "      <td>0</td>\n",
       "      <td>51</td>\n",
       "      <td>No</td>\n",
       "      <td>Travel_Rarely</td>\n",
       "      <td>Sales</td>\n",
       "      <td>6</td>\n",
       "      <td>2</td>\n",
       "      <td>Life Sciences</td>\n",
       "      <td>1</td>\n",
       "      <td>1</td>\n",
       "      <td>Female</td>\n",
       "      <td>...</td>\n",
       "      <td>1.0</td>\n",
       "      <td>Y</td>\n",
       "      <td>11</td>\n",
       "      <td>8</td>\n",
       "      <td>0</td>\n",
       "      <td>1.0</td>\n",
       "      <td>6</td>\n",
       "      <td>1</td>\n",
       "      <td>0</td>\n",
       "      <td>0</td>\n",
       "    </tr>\n",
       "    <tr>\n",
       "      <td>1</td>\n",
       "      <td>31</td>\n",
       "      <td>Yes</td>\n",
       "      <td>Travel_Frequently</td>\n",
       "      <td>Research &amp; Development</td>\n",
       "      <td>10</td>\n",
       "      <td>1</td>\n",
       "      <td>Life Sciences</td>\n",
       "      <td>1</td>\n",
       "      <td>2</td>\n",
       "      <td>Female</td>\n",
       "      <td>...</td>\n",
       "      <td>0.0</td>\n",
       "      <td>Y</td>\n",
       "      <td>23</td>\n",
       "      <td>8</td>\n",
       "      <td>1</td>\n",
       "      <td>6.0</td>\n",
       "      <td>3</td>\n",
       "      <td>5</td>\n",
       "      <td>1</td>\n",
       "      <td>4</td>\n",
       "    </tr>\n",
       "    <tr>\n",
       "      <td>2</td>\n",
       "      <td>32</td>\n",
       "      <td>No</td>\n",
       "      <td>Travel_Frequently</td>\n",
       "      <td>Research &amp; Development</td>\n",
       "      <td>17</td>\n",
       "      <td>4</td>\n",
       "      <td>Other</td>\n",
       "      <td>1</td>\n",
       "      <td>3</td>\n",
       "      <td>Male</td>\n",
       "      <td>...</td>\n",
       "      <td>1.0</td>\n",
       "      <td>Y</td>\n",
       "      <td>15</td>\n",
       "      <td>8</td>\n",
       "      <td>3</td>\n",
       "      <td>5.0</td>\n",
       "      <td>2</td>\n",
       "      <td>5</td>\n",
       "      <td>0</td>\n",
       "      <td>3</td>\n",
       "    </tr>\n",
       "    <tr>\n",
       "      <td>3</td>\n",
       "      <td>38</td>\n",
       "      <td>No</td>\n",
       "      <td>Non-Travel</td>\n",
       "      <td>Research &amp; Development</td>\n",
       "      <td>2</td>\n",
       "      <td>5</td>\n",
       "      <td>Life Sciences</td>\n",
       "      <td>1</td>\n",
       "      <td>4</td>\n",
       "      <td>Male</td>\n",
       "      <td>...</td>\n",
       "      <td>3.0</td>\n",
       "      <td>Y</td>\n",
       "      <td>11</td>\n",
       "      <td>8</td>\n",
       "      <td>3</td>\n",
       "      <td>13.0</td>\n",
       "      <td>5</td>\n",
       "      <td>8</td>\n",
       "      <td>7</td>\n",
       "      <td>5</td>\n",
       "    </tr>\n",
       "    <tr>\n",
       "      <td>4</td>\n",
       "      <td>32</td>\n",
       "      <td>No</td>\n",
       "      <td>Travel_Rarely</td>\n",
       "      <td>Research &amp; Development</td>\n",
       "      <td>10</td>\n",
       "      <td>1</td>\n",
       "      <td>Medical</td>\n",
       "      <td>1</td>\n",
       "      <td>5</td>\n",
       "      <td>Male</td>\n",
       "      <td>...</td>\n",
       "      <td>4.0</td>\n",
       "      <td>Y</td>\n",
       "      <td>12</td>\n",
       "      <td>8</td>\n",
       "      <td>2</td>\n",
       "      <td>9.0</td>\n",
       "      <td>2</td>\n",
       "      <td>6</td>\n",
       "      <td>0</td>\n",
       "      <td>4</td>\n",
       "    </tr>\n",
       "  </tbody>\n",
       "</table>\n",
       "<p>5 rows × 24 columns</p>\n",
       "</div>"
      ],
      "text/plain": [
       "   Age Attrition     BusinessTravel              Department  DistanceFromHome  \\\n",
       "0   51        No      Travel_Rarely                   Sales                 6   \n",
       "1   31       Yes  Travel_Frequently  Research & Development                10   \n",
       "2   32        No  Travel_Frequently  Research & Development                17   \n",
       "3   38        No         Non-Travel  Research & Development                 2   \n",
       "4   32        No      Travel_Rarely  Research & Development                10   \n",
       "\n",
       "   Education EducationField  EmployeeCount  EmployeeID  Gender  ...  \\\n",
       "0          2  Life Sciences              1           1  Female  ...   \n",
       "1          1  Life Sciences              1           2  Female  ...   \n",
       "2          4          Other              1           3    Male  ...   \n",
       "3          5  Life Sciences              1           4    Male  ...   \n",
       "4          1        Medical              1           5    Male  ...   \n",
       "\n",
       "   NumCompaniesWorked Over18 PercentSalaryHike  StandardHours  \\\n",
       "0                 1.0      Y                11              8   \n",
       "1                 0.0      Y                23              8   \n",
       "2                 1.0      Y                15              8   \n",
       "3                 3.0      Y                11              8   \n",
       "4                 4.0      Y                12              8   \n",
       "\n",
       "   StockOptionLevel TotalWorkingYears  TrainingTimesLastYear  YearsAtCompany  \\\n",
       "0                 0               1.0                      6               1   \n",
       "1                 1               6.0                      3               5   \n",
       "2                 3               5.0                      2               5   \n",
       "3                 3              13.0                      5               8   \n",
       "4                 2               9.0                      2               6   \n",
       "\n",
       "   YearsSinceLastPromotion  YearsWithCurrManager  \n",
       "0                        0                     0  \n",
       "1                        1                     4  \n",
       "2                        0                     3  \n",
       "3                        7                     5  \n",
       "4                        0                     4  \n",
       "\n",
       "[5 rows x 24 columns]"
      ]
     },
     "execution_count": 7,
     "metadata": {},
     "output_type": "execute_result"
    }
   ],
   "source": [
    "gen_data_df = pd.read_csv('general_data.csv')\n",
    "gen_data_df.head()"
   ]
  },
  {
   "cell_type": "code",
   "execution_count": 8,
   "metadata": {},
   "outputs": [],
   "source": [
    "#How many employees left the organization in the previous year?\n",
    "Attrition_df = gen_data_df['Attrition'].value_counts().reset_index()\n",
    "Attrition_df.rename(columns = {'Attrition':'Number of Employees'}, inplace = True) "
   ]
  },
  {
   "cell_type": "code",
   "execution_count": 9,
   "metadata": {},
   "outputs": [
    {
     "data": {
      "text/html": [
       "<div>\n",
       "<style scoped>\n",
       "    .dataframe tbody tr th:only-of-type {\n",
       "        vertical-align: middle;\n",
       "    }\n",
       "\n",
       "    .dataframe tbody tr th {\n",
       "        vertical-align: top;\n",
       "    }\n",
       "\n",
       "    .dataframe thead th {\n",
       "        text-align: right;\n",
       "    }\n",
       "</style>\n",
       "<table border=\"1\" class=\"dataframe\">\n",
       "  <thead>\n",
       "    <tr style=\"text-align: right;\">\n",
       "      <th></th>\n",
       "      <th>index</th>\n",
       "      <th>Number of Employees</th>\n",
       "      <th>percentage</th>\n",
       "    </tr>\n",
       "  </thead>\n",
       "  <tbody>\n",
       "    <tr>\n",
       "      <td>0</td>\n",
       "      <td>No</td>\n",
       "      <td>3699</td>\n",
       "      <td>83.88</td>\n",
       "    </tr>\n",
       "    <tr>\n",
       "      <td>1</td>\n",
       "      <td>Yes</td>\n",
       "      <td>711</td>\n",
       "      <td>16.12</td>\n",
       "    </tr>\n",
       "  </tbody>\n",
       "</table>\n",
       "</div>"
      ],
      "text/plain": [
       "  index  Number of Employees  percentage\n",
       "0    No                 3699       83.88\n",
       "1   Yes                  711       16.12"
      ]
     },
     "execution_count": 9,
     "metadata": {},
     "output_type": "execute_result"
    }
   ],
   "source": [
    " def percentage(x):\n",
    "      pct = float(x/Attrition_df['Number of Employees'].sum()) * 100\n",
    "      return round(pct, 2)\n",
    "Attrition_df['percentage'] = Attrition_df['Number of Employees'].apply(percentage)\n",
    "Attrition_df"
   ]
  },
  {
   "cell_type": "code",
   "execution_count": 10,
   "metadata": {},
   "outputs": [
    {
     "data": {
      "image/png": "[encoded data removed]",
      "text/plain": [
       "<Figure size 576x504 with 1 Axes>"
      ]
     },
     "metadata": {
      "needs_background": "light"
     },
     "output_type": "display_data"
    }
   ],
   "source": [
    "#Graph that displays the percentage of employees that were effected by attrition\n",
    "#my_colors = list('br')\n",
    "ax = Attrition_df.plot(x='index',y='Number of Employees',kind='bar', figsize=(8,7),\n",
    "                                                  color=\"olive\", fontsize=15);\n",
    "#ax.set_alpha(-100)\n",
    "ax.set_ylabel(\"Number of Employees\", fontsize=18)\n",
    "ax.set_xlabel(\"Employees that were effected by attrition\", fontsize=18)\n",
    "ax.set_yticks(Attrition_df['Number of Employees'])\n",
    "\n",
    "# create a list to collect the plt.patches data\n",
    "totals = []\n",
    "\n",
    "# find the values and append to list\n",
    "for i in ax.patches:\n",
    "    totals.append(i.get_height())\n",
    "\n",
    "# set individual bar lables using above list\n",
    "total = Attrition_df['Number of Employees'].sum()\n",
    "\n",
    "# set individual bar lables using above list\n",
    "for i in ax.patches:\n",
    "    # get_x pulls left or right; get_height pushes up or down\n",
    "    ax.text(i.get_x()+.12, i.get_height()+15, \\\n",
    "            str(round((i.get_height()/total)*100, 2))+'%', fontsize=20,\n",
    "                color = \"black\")"
   ]
  },
  {
   "cell_type": "markdown",
   "metadata": {},
   "source": [
    "## Observation\n",
    "\n",
    "Initial analysis shows that the attrition rate during the previous fiscal year was at 16.12%, which is higher than the industry standard of 15%."
   ]
  },
  {
   "cell_type": "code",
   "execution_count": 11,
   "metadata": {},
   "outputs": [
    {
     "data": {
      "text/html": [
       "<div>\n",
       "<style scoped>\n",
       "    .dataframe tbody tr th:only-of-type {\n",
       "        vertical-align: middle;\n",
       "    }\n",
       "\n",
       "    .dataframe tbody tr th {\n",
       "        vertical-align: top;\n",
       "    }\n",
       "\n",
       "    .dataframe thead th {\n",
       "        text-align: right;\n",
       "    }\n",
       "</style>\n",
       "<table border=\"1\" class=\"dataframe\">\n",
       "  <thead>\n",
       "    <tr style=\"text-align: right;\">\n",
       "      <th></th>\n",
       "      <th>Attrition</th>\n",
       "      <th>Department</th>\n",
       "    </tr>\n",
       "  </thead>\n",
       "  <tbody>\n",
       "    <tr>\n",
       "      <td>0</td>\n",
       "      <td>No</td>\n",
       "      <td>Sales</td>\n",
       "    </tr>\n",
       "    <tr>\n",
       "      <td>1</td>\n",
       "      <td>Yes</td>\n",
       "      <td>Research &amp; Development</td>\n",
       "    </tr>\n",
       "    <tr>\n",
       "      <td>2</td>\n",
       "      <td>No</td>\n",
       "      <td>Research &amp; Development</td>\n",
       "    </tr>\n",
       "    <tr>\n",
       "      <td>3</td>\n",
       "      <td>No</td>\n",
       "      <td>Research &amp; Development</td>\n",
       "    </tr>\n",
       "    <tr>\n",
       "      <td>4</td>\n",
       "      <td>No</td>\n",
       "      <td>Research &amp; Development</td>\n",
       "    </tr>\n",
       "  </tbody>\n",
       "</table>\n",
       "</div>"
      ],
      "text/plain": [
       "  Attrition              Department\n",
       "0        No                   Sales\n",
       "1       Yes  Research & Development\n",
       "2        No  Research & Development\n",
       "3        No  Research & Development\n",
       "4        No  Research & Development"
      ]
     },
     "execution_count": 11,
     "metadata": {},
     "output_type": "execute_result"
    }
   ],
   "source": [
    "#Which departement has the highest number of attrition\n",
    "Dept_df = gen_data_df[['Attrition','Department']]\n",
    "Dept_df.head()"
   ]
  },
  {
   "cell_type": "code",
   "execution_count": 12,
   "metadata": {},
   "outputs": [],
   "source": [
    "Dept_filter_df = Dept_df[Dept_df['Attrition'] == 'Yes']"
   ]
  },
  {
   "cell_type": "code",
   "execution_count": 13,
   "metadata": {},
   "outputs": [],
   "source": [
    "Attrition_dept_df = Dept_filter_df['Department'].value_counts().reset_index()"
   ]
  },
  {
   "cell_type": "code",
   "execution_count": 14,
   "metadata": {},
   "outputs": [
    {
     "data": {
      "text/html": [
       "<div>\n",
       "<style scoped>\n",
       "    .dataframe tbody tr th:only-of-type {\n",
       "        vertical-align: middle;\n",
       "    }\n",
       "\n",
       "    .dataframe tbody tr th {\n",
       "        vertical-align: top;\n",
       "    }\n",
       "\n",
       "    .dataframe thead th {\n",
       "        text-align: right;\n",
       "    }\n",
       "</style>\n",
       "<table border=\"1\" class=\"dataframe\">\n",
       "  <thead>\n",
       "    <tr style=\"text-align: right;\">\n",
       "      <th></th>\n",
       "      <th>Depart</th>\n",
       "      <th>Count</th>\n",
       "    </tr>\n",
       "  </thead>\n",
       "  <tbody>\n",
       "    <tr>\n",
       "      <td>0</td>\n",
       "      <td>Research &amp; Development</td>\n",
       "      <td>453</td>\n",
       "    </tr>\n",
       "    <tr>\n",
       "      <td>1</td>\n",
       "      <td>Sales</td>\n",
       "      <td>201</td>\n",
       "    </tr>\n",
       "    <tr>\n",
       "      <td>2</td>\n",
       "      <td>Human Resources</td>\n",
       "      <td>57</td>\n",
       "    </tr>\n",
       "  </tbody>\n",
       "</table>\n",
       "</div>"
      ],
      "text/plain": [
       "                   Depart  Count\n",
       "0  Research & Development    453\n",
       "1                   Sales    201\n",
       "2         Human Resources     57"
      ]
     },
     "execution_count": 14,
     "metadata": {},
     "output_type": "execute_result"
    }
   ],
   "source": [
    "Attrition_dept_df.rename(columns = {'index':'Depart','Department':'Count'}, inplace = True) \n",
    "Attrition_dept_df.head()"
   ]
  },
  {
   "cell_type": "code",
   "execution_count": 15,
   "metadata": {},
   "outputs": [
    {
     "data": {
      "image/png": "[encoded data removed]",
      "text/plain": [
       "<Figure size 432x288 with 1 Axes>"
      ]
     },
     "metadata": {},
     "output_type": "display_data"
    }
   ],
   "source": [
    "# Pie chart\n",
    "labels = Attrition_dept_df['Depart']\n",
    "sizes = Attrition_dept_df['Count']\n",
    "#colors\n",
    "colors = ['#ff9999','#66b3ff','#99ff99','#ffcc99']\n",
    " \n",
    "fig1, ax1 = plt.subplots()\n",
    "patches, texts, autotexts = ax1.pie(sizes, colors = colors, labels=labels, autopct='%1.1f%%', startangle=90)\n",
    "for text in texts:\n",
    "    text.set_color('grey')\n",
    "for autotext in autotexts:\n",
    "    autotext.set_color('grey')\n",
    "# Equal aspect ratio ensures that pie is drawn as a circle\n",
    "ax1.axis('equal')  \n",
    "plt.tight_layout()\n",
    "plt.show()"
   ]
  },
  {
   "cell_type": "markdown",
   "metadata": {},
   "source": [
    "## Observation\n",
    "Attrition is higher in R&D department compared to other departments."
   ]
  },
  {
   "cell_type": "code",
   "execution_count": 16,
   "metadata": {},
   "outputs": [],
   "source": [
    "#Did employees with lower hike leave\n",
    "Hike_df = gen_data_df[['Attrition','PercentSalaryHike','MonthlyIncome']]\n",
    "Hike_left_df = Hike_df[Hike_df['Attrition'] == 'Yes']\n",
    "Hike_retained_df = Hike_df[Hike_df['Attrition'] == 'No']"
   ]
  },
  {
   "cell_type": "code",
   "execution_count": 17,
   "metadata": {},
   "outputs": [
    {
     "data": {
      "text/plain": [
       "PercentSalaryHike       15.481013\n",
       "MonthlyIncome        61682.616034\n",
       "dtype: float64"
      ]
     },
     "execution_count": 17,
     "metadata": {},
     "output_type": "execute_result"
    }
   ],
   "source": [
    "Hike_left_df.mean()"
   ]
  },
  {
   "cell_type": "code",
   "execution_count": 18,
   "metadata": {},
   "outputs": [
    {
     "data": {
      "text/plain": [
       "PercentSalaryHike       15.157340\n",
       "MonthlyIncome        65672.595296\n",
       "dtype: float64"
      ]
     },
     "execution_count": 18,
     "metadata": {},
     "output_type": "execute_result"
    }
   ],
   "source": [
    "Hike_retained_df.mean()"
   ]
  },
  {
   "cell_type": "code",
   "execution_count": 33,
   "metadata": {},
   "outputs": [
    {
     "data": {
      "image/png": "[encoded data removed]",
      "text/plain": [
       "<Figure size 432x288 with 1 Axes>"
      ]
     },
     "metadata": {
      "needs_background": "light"
     },
     "output_type": "display_data"
    }
   ],
   "source": [
    "#Scatter plot to show the relation between hike and employees leaving the company\n",
    "Monthly_Income_left = Hike_left_df['MonthlyIncome']\n",
    "Hike_left = Hike_left_df['PercentSalaryHike']\n",
    "Monthly_Income_retained = Hike_retained_df['MonthlyIncome']\n",
    "Hike_retained = Hike_retained_df['PercentSalaryHike']\n",
    "fig=plt.figure()\n",
    "ax=fig.add_axes([0,0,1,1])\n",
    "ax.scatter(Monthly_Income_left, Hike_left, color='r')\n",
    "ax.scatter(Monthly_Income_retained, Hike_retained, color='b')\n",
    "ax.set_xlabel('Monthly Income')\n",
    "ax.set_ylabel('Hike')\n",
    "ax.set_title('scatter plot')\n",
    "plt.show()"
   ]
  },
  {
   "cell_type": "markdown",
   "metadata": {},
   "source": [
    "## Observation\n",
    "The Scatter plot does not show any indication of employees that left the organisation of receiving a lower hike compared to the rest."
   ]
  },
  {
   "cell_type": "code",
   "execution_count": 20,
   "metadata": {},
   "outputs": [
    {
     "data": {
      "text/plain": [
       "Text(0, 0.5, 'Hike in Percentage')"
      ]
     },
     "execution_count": 20,
     "metadata": {},
     "output_type": "execute_result"
    },
    {
     "data": {
      "image/png": "[encoded data removed]",
      "text/plain": [
       "<Figure size 432x288 with 1 Axes>"
      ]
     },
     "metadata": {
      "needs_background": "light"
     },
     "output_type": "display_data"
    }
   ],
   "source": [
    "#Box and Whisker plot to identify the average hike\n",
    "Hike_left = Hike_left_df['PercentSalaryHike'].tolist()\n",
    "sns.boxplot(data=Hike_left,showfliers=False).set_title('Hike of employees that left the company')\n",
    "#plt.xlabel('Employee Count')\n",
    "plt.ylabel(\"Hike in Percentage\")"
   ]
  },
  {
   "cell_type": "code",
   "execution_count": 21,
   "metadata": {},
   "outputs": [
    {
     "data": {
      "text/plain": [
       "Text(0, 0.5, 'Hike in Percentage')"
      ]
     },
     "execution_count": 21,
     "metadata": {},
     "output_type": "execute_result"
    },
    {
     "data": {
      "image/png": "[encoded data removed]",
      "text/plain": [
       "<Figure size 432x288 with 1 Axes>"
      ]
     },
     "metadata": {
      "needs_background": "light"
     },
     "output_type": "display_data"
    }
   ],
   "source": [
    "Hike_retained = Hike_retained_df['PercentSalaryHike'].tolist()\n",
    "sns.boxplot(data=Hike_retained,showfliers=False).set_title('Hike of employees that reamin in the company')\n",
    "#plt.xlabel('Employee Count')\n",
    "plt.ylabel(\"Hike in Percentage\")"
   ]
  },
  {
   "cell_type": "markdown",
   "metadata": {},
   "source": [
    "## Observation\n",
    "The Box and Whisker plot reemphasises the point that the hike is fairly same for both set of employees"
   ]
  },
  {
   "cell_type": "code",
   "execution_count": 22,
   "metadata": {},
   "outputs": [
    {
     "data": {
      "text/plain": [
       "Text(0, 0.5, 'Monthly Income')"
      ]
     },
     "execution_count": 22,
     "metadata": {},
     "output_type": "execute_result"
    },
    {
     "data": {
      "image/png": "[encoded data removed]",
      "text/plain": [
       "<Figure size 432x288 with 1 Axes>"
      ]
     },
     "metadata": {
      "needs_background": "light"
     },
     "output_type": "display_data"
    }
   ],
   "source": [
    "##One of the main reasons for employee attrition is compensation. \n",
    "###How does the compensation of employees that have left the company compare to the employees that remain in the company?\n",
    "\n",
    "Hike_left = Hike_left_df['MonthlyIncome'].tolist()\n",
    "sns.boxplot(data=Hike_left,showfliers=False).set_title('Monthly income of employees that left the company')\n",
    "#plt.xlabel('Employee Count')\n",
    "plt.ylabel(\"Monthly Income\")"
   ]
  },
  {
   "cell_type": "code",
   "execution_count": 23,
   "metadata": {},
   "outputs": [
    {
     "data": {
      "text/plain": [
       "Text(0, 0.5, 'Monthly Income')"
      ]
     },
     "execution_count": 23,
     "metadata": {},
     "output_type": "execute_result"
    },
    {
     "data": {
      "image/png": "[encoded data removed]",
      "text/plain": [
       "<Figure size 432x288 with 1 Axes>"
      ]
     },
     "metadata": {
      "needs_background": "light"
     },
     "output_type": "display_data"
    }
   ],
   "source": [
    "Hike_retained = Hike_retained_df['MonthlyIncome'].tolist()\n",
    "sns.boxplot(data=Hike_retained,showfliers=False).set_title('Monthly income of employees that remain in the company')\n",
    "#plt.xlabel('Employee Count')\n",
    "plt.ylabel(\"Monthly Income\")"
   ]
  },
  {
   "cell_type": "markdown",
   "metadata": {},
   "source": [
    "## Observation\n",
    " The box and whisker plot  shows that the employees that left the company had a monthly income lesser than that of the employees that remain with the company. Lower compensation can be a very important factor in attrition."
   ]
  },
  {
   "cell_type": "code",
   "execution_count": 24,
   "metadata": {},
   "outputs": [
    {
     "data": {
      "text/html": [
       "<div>\n",
       "<style scoped>\n",
       "    .dataframe tbody tr th:only-of-type {\n",
       "        vertical-align: middle;\n",
       "    }\n",
       "\n",
       "    .dataframe tbody tr th {\n",
       "        vertical-align: top;\n",
       "    }\n",
       "\n",
       "    .dataframe thead th {\n",
       "        text-align: right;\n",
       "    }\n",
       "</style>\n",
       "<table border=\"1\" class=\"dataframe\">\n",
       "  <thead>\n",
       "    <tr style=\"text-align: right;\">\n",
       "      <th></th>\n",
       "      <th>EmployeeID</th>\n",
       "      <th>JobInvolvement</th>\n",
       "      <th>PerformanceRating</th>\n",
       "      <th>Attrition</th>\n",
       "    </tr>\n",
       "  </thead>\n",
       "  <tbody>\n",
       "    <tr>\n",
       "      <td>0</td>\n",
       "      <td>1</td>\n",
       "      <td>3</td>\n",
       "      <td>3</td>\n",
       "      <td>No</td>\n",
       "    </tr>\n",
       "    <tr>\n",
       "      <td>1</td>\n",
       "      <td>2</td>\n",
       "      <td>2</td>\n",
       "      <td>4</td>\n",
       "      <td>Yes</td>\n",
       "    </tr>\n",
       "    <tr>\n",
       "      <td>2</td>\n",
       "      <td>3</td>\n",
       "      <td>3</td>\n",
       "      <td>3</td>\n",
       "      <td>No</td>\n",
       "    </tr>\n",
       "    <tr>\n",
       "      <td>3</td>\n",
       "      <td>4</td>\n",
       "      <td>2</td>\n",
       "      <td>3</td>\n",
       "      <td>No</td>\n",
       "    </tr>\n",
       "    <tr>\n",
       "      <td>4</td>\n",
       "      <td>5</td>\n",
       "      <td>3</td>\n",
       "      <td>3</td>\n",
       "      <td>No</td>\n",
       "    </tr>\n",
       "  </tbody>\n",
       "</table>\n",
       "</div>"
      ],
      "text/plain": [
       "   EmployeeID  JobInvolvement  PerformanceRating Attrition\n",
       "0           1               3                  3        No\n",
       "1           2               2                  4       Yes\n",
       "2           3               3                  3        No\n",
       "3           4               2                  3        No\n",
       "4           5               3                  3        No"
      ]
     },
     "execution_count": 24,
     "metadata": {},
     "output_type": "execute_result"
    }
   ],
   "source": [
    "#Manager feedback of the employees that were part of the attrition\n",
    "man_sur_df['Attrition'] = gen_data_df[['Attrition']]\n",
    "man_sur_df.head()"
   ]
  },
  {
   "cell_type": "code",
   "execution_count": 25,
   "metadata": {},
   "outputs": [
    {
     "data": {
      "text/html": [
       "<div>\n",
       "<style scoped>\n",
       "    .dataframe tbody tr th:only-of-type {\n",
       "        vertical-align: middle;\n",
       "    }\n",
       "\n",
       "    .dataframe tbody tr th {\n",
       "        vertical-align: top;\n",
       "    }\n",
       "\n",
       "    .dataframe thead th {\n",
       "        text-align: right;\n",
       "    }\n",
       "</style>\n",
       "<table border=\"1\" class=\"dataframe\">\n",
       "  <thead>\n",
       "    <tr style=\"text-align: right;\">\n",
       "      <th></th>\n",
       "      <th>EmployeeID</th>\n",
       "      <th>JobInvolvement</th>\n",
       "      <th>PerformanceRating</th>\n",
       "      <th>Attrition</th>\n",
       "    </tr>\n",
       "  </thead>\n",
       "  <tbody>\n",
       "    <tr>\n",
       "      <td>1</td>\n",
       "      <td>2</td>\n",
       "      <td>2</td>\n",
       "      <td>4</td>\n",
       "      <td>Yes</td>\n",
       "    </tr>\n",
       "    <tr>\n",
       "      <td>6</td>\n",
       "      <td>7</td>\n",
       "      <td>3</td>\n",
       "      <td>4</td>\n",
       "      <td>Yes</td>\n",
       "    </tr>\n",
       "    <tr>\n",
       "      <td>13</td>\n",
       "      <td>14</td>\n",
       "      <td>2</td>\n",
       "      <td>3</td>\n",
       "      <td>Yes</td>\n",
       "    </tr>\n",
       "    <tr>\n",
       "      <td>28</td>\n",
       "      <td>29</td>\n",
       "      <td>2</td>\n",
       "      <td>3</td>\n",
       "      <td>Yes</td>\n",
       "    </tr>\n",
       "    <tr>\n",
       "      <td>30</td>\n",
       "      <td>31</td>\n",
       "      <td>2</td>\n",
       "      <td>3</td>\n",
       "      <td>Yes</td>\n",
       "    </tr>\n",
       "  </tbody>\n",
       "</table>\n",
       "</div>"
      ],
      "text/plain": [
       "    EmployeeID  JobInvolvement  PerformanceRating Attrition\n",
       "1            2               2                  4       Yes\n",
       "6            7               3                  4       Yes\n",
       "13          14               2                  3       Yes\n",
       "28          29               2                  3       Yes\n",
       "30          31               2                  3       Yes"
      ]
     },
     "execution_count": 25,
     "metadata": {},
     "output_type": "execute_result"
    }
   ],
   "source": [
    "man_sur_left_df = man_sur_df[man_sur_df['Attrition']=='Yes']\n",
    "man_sur_left_df.head()"
   ]
  },
  {
   "cell_type": "code",
   "execution_count": 26,
   "metadata": {},
   "outputs": [
    {
     "data": {
      "text/plain": [
       "2.7046413502109705"
      ]
     },
     "execution_count": 26,
     "metadata": {},
     "output_type": "execute_result"
    }
   ],
   "source": [
    "man_sur_left_df['JobInvolvement'].mean()"
   ]
  },
  {
   "cell_type": "code",
   "execution_count": 27,
   "metadata": {},
   "outputs": [
    {
     "data": {
      "text/html": [
       "<div>\n",
       "<style scoped>\n",
       "    .dataframe tbody tr th:only-of-type {\n",
       "        vertical-align: middle;\n",
       "    }\n",
       "\n",
       "    .dataframe tbody tr th {\n",
       "        vertical-align: top;\n",
       "    }\n",
       "\n",
       "    .dataframe thead th {\n",
       "        text-align: right;\n",
       "    }\n",
       "</style>\n",
       "<table border=\"1\" class=\"dataframe\">\n",
       "  <thead>\n",
       "    <tr style=\"text-align: right;\">\n",
       "      <th></th>\n",
       "      <th>EmployeeID</th>\n",
       "      <th>EnvironmentSatisfaction</th>\n",
       "      <th>JobSatisfaction</th>\n",
       "      <th>WorkLifeBalance</th>\n",
       "      <th>Attrition</th>\n",
       "    </tr>\n",
       "  </thead>\n",
       "  <tbody>\n",
       "    <tr>\n",
       "      <td>0</td>\n",
       "      <td>1</td>\n",
       "      <td>3.0</td>\n",
       "      <td>4.0</td>\n",
       "      <td>2.0</td>\n",
       "      <td>No</td>\n",
       "    </tr>\n",
       "    <tr>\n",
       "      <td>1</td>\n",
       "      <td>2</td>\n",
       "      <td>3.0</td>\n",
       "      <td>2.0</td>\n",
       "      <td>4.0</td>\n",
       "      <td>Yes</td>\n",
       "    </tr>\n",
       "    <tr>\n",
       "      <td>2</td>\n",
       "      <td>3</td>\n",
       "      <td>2.0</td>\n",
       "      <td>2.0</td>\n",
       "      <td>1.0</td>\n",
       "      <td>No</td>\n",
       "    </tr>\n",
       "    <tr>\n",
       "      <td>3</td>\n",
       "      <td>4</td>\n",
       "      <td>4.0</td>\n",
       "      <td>4.0</td>\n",
       "      <td>3.0</td>\n",
       "      <td>No</td>\n",
       "    </tr>\n",
       "    <tr>\n",
       "      <td>4</td>\n",
       "      <td>5</td>\n",
       "      <td>4.0</td>\n",
       "      <td>1.0</td>\n",
       "      <td>3.0</td>\n",
       "      <td>No</td>\n",
       "    </tr>\n",
       "  </tbody>\n",
       "</table>\n",
       "</div>"
      ],
      "text/plain": [
       "   EmployeeID  EnvironmentSatisfaction  JobSatisfaction  WorkLifeBalance  \\\n",
       "0           1                      3.0              4.0              2.0   \n",
       "1           2                      3.0              2.0              4.0   \n",
       "2           3                      2.0              2.0              1.0   \n",
       "3           4                      4.0              4.0              3.0   \n",
       "4           5                      4.0              1.0              3.0   \n",
       "\n",
       "  Attrition  \n",
       "0        No  \n",
       "1       Yes  \n",
       "2        No  \n",
       "3        No  \n",
       "4        No  "
      ]
     },
     "execution_count": 27,
     "metadata": {},
     "output_type": "execute_result"
    }
   ],
   "source": [
    "#Employee feedback of the employees that were part of the attrition\n",
    "emp_sur_df['Attrition'] = gen_data_df[['Attrition']]\n",
    "emp_sur_df.head()"
   ]
  },
  {
   "cell_type": "code",
   "execution_count": 28,
   "metadata": {},
   "outputs": [],
   "source": [
    "emp_sur_df.dropna(inplace=True)"
   ]
  },
  {
   "cell_type": "code",
   "execution_count": 29,
   "metadata": {},
   "outputs": [
    {
     "data": {
      "text/plain": [
       "[]"
      ]
     },
     "execution_count": 29,
     "metadata": {},
     "output_type": "execute_result"
    },
    {
     "data": {
      "image/png": "[encoded data removed]",
      "text/plain": [
       "<Figure size 432x288 with 1 Axes>"
      ]
     },
     "metadata": {
      "needs_background": "light"
     },
     "output_type": "display_data"
    }
   ],
   "source": [
    "JobSatisfaction = emp_sur_df['JobSatisfaction'].mean()\n",
    "WorkLifeBalance = emp_sur_df['WorkLifeBalance'].mean()\n",
    "EnvironmentSatisfaction = emp_sur_df['EnvironmentSatisfaction'].mean()\n",
    "fig = plt.figure()\n",
    "ax = fig.add_axes([0,0,1,1])\n",
    "Category = ['Job Satisfaction','Work Life Balance','Environment Satisfaction']\n",
    "Rating = [JobSatisfaction,WorkLifeBalance,EnvironmentSatisfaction]\n",
    "ax.bar(Category,Rating)\n",
    "plt.ylabel(\"Rating out of 5\")\n",
    "plt.title(\"Average rating of the employee survey\")\n",
    "#plt.yticks([1,2,3,4,5])\n",
    "plt.plot()"
   ]
  },
  {
   "cell_type": "markdown",
   "metadata": {},
   "source": [
    "## Observation\n",
    "Employee morale is low accross the board. As displayed in the bar graph above the average rating of the employees for all three categories averages around 2.5. Low morale also contributes to attrition."
   ]
  },
  {
   "cell_type": "code",
   "execution_count": null,
   "metadata": {},
   "outputs": [],
   "source": []
  }
 ],
 "metadata": {
  "kernelspec": {
   "display_name": "Python 3",
   "language": "python",
   "name": "python3"
  },
  "language_info": {
   "codemirror_mode": {
    "name": "ipython",
    "version": 3
   },
   "file_extension": ".py",
   "mimetype": "text/x-python",
   "name": "python",
   "nbconvert_exporter": "python",
   "pygments_lexer": "ipython3",
   "version": "3.7.4"
  }
 },
 "nbformat": 4,
 "nbformat_minor": 2
}
